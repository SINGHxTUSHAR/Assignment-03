{
 "cells": [
  {
   "cell_type": "markdown",
   "id": "f413153a",
   "metadata": {},
   "source": [
    "Q1. Which keyword is used to create a function? Create a function to return a list of odd numbers in the\n",
    "range of 1 to 25."
   ]
  },
  {
   "cell_type": "code",
   "execution_count": 6,
   "id": "70745612",
   "metadata": {},
   "outputs": [],
   "source": [
    "# def is used to create a function\n",
    "l = []\n",
    "def odd():\n",
    "    for num in range(1,26):\n",
    "        if num%2 != 0:\n",
    "            l.append(num)\n",
    "    return l"
   ]
  },
  {
   "cell_type": "code",
   "execution_count": 7,
   "id": "ad89b393",
   "metadata": {},
   "outputs": [
    {
     "data": {
      "text/plain": [
       "[1, 3, 5, 7, 9, 11, 13, 15, 17, 19, 21, 23, 25]"
      ]
     },
     "execution_count": 7,
     "metadata": {},
     "output_type": "execute_result"
    }
   ],
   "source": [
    "odd()"
   ]
  },
  {
   "cell_type": "code",
   "execution_count": null,
   "id": "5a587db6",
   "metadata": {},
   "outputs": [],
   "source": []
  },
  {
   "cell_type": "markdown",
   "id": "d90cc8f7",
   "metadata": {},
   "source": [
    "Q2. Why *args and ** kwargs is used in some functions? Create a function each for *args and ** kwargs\n",
    "to demonstrate their use."
   ]
  },
  {
   "cell_type": "code",
   "execution_count": null,
   "id": "6ecfff98",
   "metadata": {},
   "outputs": [],
   "source": [
    "#  *args is used for dynamic parameter , means when we want to use as many parameter then we use the *args\n",
    "#  **kwargs is used for key value pair "
   ]
  },
  {
   "cell_type": "code",
   "execution_count": 8,
   "id": "8d10eacf",
   "metadata": {},
   "outputs": [],
   "source": [
    "def test_fun1(*args):\n",
    "    return args"
   ]
  },
  {
   "cell_type": "code",
   "execution_count": 9,
   "id": "5f9f16e6",
   "metadata": {},
   "outputs": [
    {
     "data": {
      "text/plain": [
       "()"
      ]
     },
     "execution_count": 9,
     "metadata": {},
     "output_type": "execute_result"
    }
   ],
   "source": [
    "test_fun1()"
   ]
  },
  {
   "cell_type": "code",
   "execution_count": 10,
   "id": "0719078b",
   "metadata": {},
   "outputs": [
    {
     "data": {
      "text/plain": [
       "(1, 2, 3, 5, 6, 89, 8, 23.5, 5, 6, 5, 2)"
      ]
     },
     "execution_count": 10,
     "metadata": {},
     "output_type": "execute_result"
    }
   ],
   "source": [
    "test_fun1(1,2,3,5,6,89,8,23.5,5,6,5,2)"
   ]
  },
  {
   "cell_type": "code",
   "execution_count": 11,
   "id": "90cd5050",
   "metadata": {},
   "outputs": [],
   "source": [
    "def test_fun2(**kwargs):\n",
    "    return kwargs"
   ]
  },
  {
   "cell_type": "code",
   "execution_count": 12,
   "id": "b94461bd",
   "metadata": {},
   "outputs": [
    {
     "data": {
      "text/plain": [
       "{'a': 'TUSHAR', 'b': 'SINGH'}"
      ]
     },
     "execution_count": 12,
     "metadata": {},
     "output_type": "execute_result"
    }
   ],
   "source": [
    "test_fun2(a = \"TUSHAR\", b = \"SINGH\")"
   ]
  },
  {
   "cell_type": "code",
   "execution_count": null,
   "id": "80b84bca",
   "metadata": {},
   "outputs": [],
   "source": []
  },
  {
   "cell_type": "code",
   "execution_count": null,
   "id": "eebe277e",
   "metadata": {},
   "outputs": [],
   "source": []
  },
  {
   "cell_type": "markdown",
   "id": "34aa2ab3",
   "metadata": {},
   "source": [
    "Q3.  What is an iterator in python? Name the method used to initialise the iterator object and the method\n",
    "used for iteration. Use these methods to print the first five elements of the given list [2, 4, 6, 8, 10, 12, 14,\n",
    "16, 18, 20]."
   ]
  },
  {
   "cell_type": "markdown",
   "id": "af7c9499",
   "metadata": {},
   "source": [
    "iterator is an object which is used to traverse through all the data values. iter() function is used for iterate over the iterable like list, tuples, str , and etc"
   ]
  },
  {
   "cell_type": "code",
   "execution_count": 13,
   "id": "8ed8dac3",
   "metadata": {},
   "outputs": [],
   "source": [
    "l = [2, 4, 6, 8, 10, 12, 14, 16, 18, 20]"
   ]
  },
  {
   "cell_type": "code",
   "execution_count": 16,
   "id": "8106d1c1",
   "metadata": {},
   "outputs": [],
   "source": [
    "a = iter(l)"
   ]
  },
  {
   "cell_type": "code",
   "execution_count": 18,
   "id": "18352d2e",
   "metadata": {},
   "outputs": [
    {
     "data": {
      "text/plain": [
       "2"
      ]
     },
     "execution_count": 18,
     "metadata": {},
     "output_type": "execute_result"
    }
   ],
   "source": [
    "next(a)     #we can use the next() keyword for the next element."
   ]
  },
  {
   "cell_type": "code",
   "execution_count": 19,
   "id": "8f303ca7",
   "metadata": {},
   "outputs": [
    {
     "data": {
      "text/plain": [
       "4"
      ]
     },
     "execution_count": 19,
     "metadata": {},
     "output_type": "execute_result"
    }
   ],
   "source": [
    "next(a)"
   ]
  },
  {
   "cell_type": "code",
   "execution_count": 20,
   "id": "4a968b70",
   "metadata": {},
   "outputs": [
    {
     "data": {
      "text/plain": [
       "6"
      ]
     },
     "execution_count": 20,
     "metadata": {},
     "output_type": "execute_result"
    }
   ],
   "source": [
    "next(a)"
   ]
  },
  {
   "cell_type": "code",
   "execution_count": 21,
   "id": "dde10996",
   "metadata": {},
   "outputs": [
    {
     "data": {
      "text/plain": [
       "8"
      ]
     },
     "execution_count": 21,
     "metadata": {},
     "output_type": "execute_result"
    }
   ],
   "source": [
    "next(a)"
   ]
  },
  {
   "cell_type": "code",
   "execution_count": 22,
   "id": "d6dbddd1",
   "metadata": {},
   "outputs": [
    {
     "data": {
      "text/plain": [
       "10"
      ]
     },
     "execution_count": 22,
     "metadata": {},
     "output_type": "execute_result"
    }
   ],
   "source": [
    "next(a)"
   ]
  },
  {
   "cell_type": "code",
   "execution_count": null,
   "id": "859e0d64",
   "metadata": {},
   "outputs": [],
   "source": []
  },
  {
   "cell_type": "markdown",
   "id": "3a48a56e",
   "metadata": {},
   "source": [
    "Q4.  What is a generator function in python? Why yield keyword is used? Give an example of a generator\n",
    "function."
   ]
  },
  {
   "cell_type": "markdown",
   "id": "7aa1316b",
   "metadata": {},
   "source": [
    "A generator function is used for the code optimization and to save the memory as it doesnot store the values, it return the output one by one. yield keyword is used in generator function"
   ]
  },
  {
   "cell_type": "code",
   "execution_count": 26,
   "id": "d284bfee",
   "metadata": {},
   "outputs": [],
   "source": [
    "# defining a function to square the number in range of 0 to 10\n",
    "\n",
    "def sq():\n",
    "    for num in range(0,10):\n",
    "        yield num**2"
   ]
  },
  {
   "cell_type": "code",
   "execution_count": 28,
   "id": "38422611",
   "metadata": {},
   "outputs": [
    {
     "name": "stdout",
     "output_type": "stream",
     "text": [
      "0\n",
      "1\n",
      "4\n",
      "9\n",
      "16\n",
      "25\n",
      "36\n",
      "49\n",
      "64\n",
      "81\n"
     ]
    }
   ],
   "source": [
    "for i in sq():\n",
    "    print(i)"
   ]
  },
  {
   "cell_type": "code",
   "execution_count": null,
   "id": "742d8563",
   "metadata": {},
   "outputs": [],
   "source": []
  },
  {
   "cell_type": "markdown",
   "id": "64aa0d22",
   "metadata": {},
   "source": [
    "Q5. Create a generator function for prime numbers less than 1000. Use the next() method to print the\n",
    "first 20 prime numbers."
   ]
  },
  {
   "cell_type": "code",
   "execution_count": 76,
   "id": "b321f2b3",
   "metadata": {},
   "outputs": [],
   "source": [
    "def getPrimes(n):\n",
    "    prime=True\n",
    "    i=2\n",
    "    while(i<n):\n",
    "        for a in range(2,i):\n",
    "            if(i%a==0):\n",
    "                prime=False\n",
    "                break\n",
    "            i = i+1\n",
    "        if(prime):    \n",
    "            yield i"
   ]
  },
  {
   "cell_type": "code",
   "execution_count": 77,
   "id": "98c4b90f",
   "metadata": {},
   "outputs": [
    {
     "ename": "TypeError",
     "evalue": "'int' object is not an iterator",
     "output_type": "error",
     "traceback": [
      "\u001b[1;31m---------------------------------------------------------------------------\u001b[0m",
      "\u001b[1;31mTypeError\u001b[0m                                 Traceback (most recent call last)",
      "Input \u001b[1;32mIn [77]\u001b[0m, in \u001b[0;36m<cell line: 1>\u001b[1;34m()\u001b[0m\n\u001b[0;32m      1\u001b[0m \u001b[38;5;28;01mfor\u001b[39;00m x \u001b[38;5;129;01min\u001b[39;00m getPrimes(\u001b[38;5;241m1000\u001b[39m):\n\u001b[1;32m----> 2\u001b[0m     \u001b[38;5;28;43mnext\u001b[39;49m\u001b[43m(\u001b[49m\u001b[43mx\u001b[49m\u001b[43m)\u001b[49m\n",
      "\u001b[1;31mTypeError\u001b[0m: 'int' object is not an iterator"
     ]
    }
   ],
   "source": [
    "for x in getPrimes(1000):\n",
    "    next(x)"
   ]
  },
  {
   "cell_type": "code",
   "execution_count": null,
   "id": "2f423352",
   "metadata": {},
   "outputs": [],
   "source": []
  },
  {
   "cell_type": "code",
   "execution_count": null,
   "id": "eef9cb3b",
   "metadata": {},
   "outputs": [],
   "source": []
  },
  {
   "cell_type": "markdown",
   "id": "c2ca26f4",
   "metadata": {},
   "source": [
    "Q6. Write a python program to print the first 10 Fibonacci numbers using a while loop."
   ]
  },
  {
   "cell_type": "code",
   "execution_count": 46,
   "id": "91eaa728",
   "metadata": {},
   "outputs": [],
   "source": [
    "def fibonnaci_no(n):\n",
    "    a,b = 0,1\n",
    "    i = 0\n",
    "    while i<n:\n",
    "        yield a\n",
    "        a,b = b,b+a\n",
    "        i = i+1"
   ]
  },
  {
   "cell_type": "code",
   "execution_count": 48,
   "id": "37567ce2",
   "metadata": {},
   "outputs": [
    {
     "name": "stdout",
     "output_type": "stream",
     "text": [
      "0\n",
      "1\n",
      "1\n",
      "2\n",
      "3\n",
      "5\n",
      "8\n",
      "13\n",
      "21\n",
      "34\n"
     ]
    }
   ],
   "source": [
    "for num in fibonnaci_no(10):\n",
    "    print(num)"
   ]
  },
  {
   "cell_type": "code",
   "execution_count": null,
   "id": "49de9aba",
   "metadata": {},
   "outputs": [],
   "source": []
  },
  {
   "cell_type": "code",
   "execution_count": null,
   "id": "b4505130",
   "metadata": {},
   "outputs": [],
   "source": []
  },
  {
   "cell_type": "markdown",
   "id": "9804df6d",
   "metadata": {},
   "source": [
    "Q7. Write a List Comprehension to iterate through the given string: ‘pwskills’.\n",
    "\n",
    "Expected output: ['p', 'w', 's', 'k', 'i', 'l', 'l', 's']"
   ]
  },
  {
   "cell_type": "code",
   "execution_count": 52,
   "id": "31d9ff72",
   "metadata": {},
   "outputs": [
    {
     "data": {
      "text/plain": [
       "['p', 'w', 's', 'k', 'i', 'l', 'l', 's']"
      ]
     },
     "execution_count": 52,
     "metadata": {},
     "output_type": "execute_result"
    }
   ],
   "source": [
    "s = \"pwskills\"\n",
    "\n",
    "list(map(lambda num: num , s))"
   ]
  },
  {
   "cell_type": "code",
   "execution_count": null,
   "id": "025b57b3",
   "metadata": {},
   "outputs": [],
   "source": []
  },
  {
   "cell_type": "code",
   "execution_count": null,
   "id": "8662cbe0",
   "metadata": {},
   "outputs": [],
   "source": []
  },
  {
   "cell_type": "markdown",
   "id": "8e638579",
   "metadata": {},
   "source": [
    "Q8. Write a python program to check whether a given number is Palindrome or not using a while loop."
   ]
  },
  {
   "cell_type": "code",
   "execution_count": 53,
   "id": "2572209a",
   "metadata": {},
   "outputs": [],
   "source": [
    "def check_palindrome(n):\n",
    "    temp = n\n",
    "    rev_num = 0\n",
    "    \n",
    "    while temp != 0:\n",
    "        digit = temp%10\n",
    "        rev_num = (rev_num*10) + digit\n",
    "        temp = temp // 10\n",
    "    if n == rev_num:\n",
    "        print(\"it is a palindrome\")\n",
    "    else:\n",
    "        print(\"it is not palindrome\") "
   ]
  },
  {
   "cell_type": "code",
   "execution_count": 54,
   "id": "a9abd873",
   "metadata": {},
   "outputs": [
    {
     "name": "stdout",
     "output_type": "stream",
     "text": [
      "it is not palindrome\n"
     ]
    }
   ],
   "source": [
    "check_palindrome(123)"
   ]
  },
  {
   "cell_type": "code",
   "execution_count": 55,
   "id": "7323edf4",
   "metadata": {},
   "outputs": [
    {
     "name": "stdout",
     "output_type": "stream",
     "text": [
      "it is a palindrome\n"
     ]
    }
   ],
   "source": [
    "check_palindrome(16461)"
   ]
  },
  {
   "cell_type": "code",
   "execution_count": null,
   "id": "bc0e91d0",
   "metadata": {},
   "outputs": [],
   "source": []
  },
  {
   "cell_type": "code",
   "execution_count": null,
   "id": "bf7d6ca3",
   "metadata": {},
   "outputs": [],
   "source": []
  },
  {
   "cell_type": "markdown",
   "id": "015f1874",
   "metadata": {},
   "source": [
    "Q9. Write a code to print odd numbers from 1 to 100 using list comprehension."
   ]
  },
  {
   "cell_type": "code",
   "execution_count": 64,
   "id": "d7b1f54b",
   "metadata": {},
   "outputs": [
    {
     "name": "stdout",
     "output_type": "stream",
     "text": [
      "[1, 2, 3, 4, 5, 6, 7, 8, 9, 10, 11, 12, 13, 14, 15, 16, 17, 18, 19, 20, 21, 22, 23, 24, 25, 26, 27, 28, 29, 30, 31, 32, 33, 34, 35, 36, 37, 38, 39, 40, 41, 42, 43, 44, 45, 46, 47, 48, 49, 50, 51, 52, 53, 54, 55, 56, 57, 58, 59, 60, 61, 62, 63, 64, 65, 66, 67, 68, 69, 70, 71, 72, 73, 74, 75, 76, 77, 78, 79, 80, 81, 82, 83, 84, 85, 86, 87, 88, 89, 90, 91, 92, 93, 94, 95, 96, 97, 98, 99]\n"
     ]
    }
   ],
   "source": [
    "l = [num for num in range(1,100)]\n",
    "print(l)"
   ]
  },
  {
   "cell_type": "code",
   "execution_count": null,
   "id": "1f0439d2",
   "metadata": {},
   "outputs": [],
   "source": [
    "#using another list comprehension to filter out the odd numbers"
   ]
  },
  {
   "cell_type": "code",
   "execution_count": 74,
   "id": "23bbd246",
   "metadata": {},
   "outputs": [],
   "source": [
    "l1 = [x for x in l if x%2==1]"
   ]
  },
  {
   "cell_type": "code",
   "execution_count": 75,
   "id": "4a3f0900",
   "metadata": {},
   "outputs": [
    {
     "data": {
      "text/plain": [
       "[1,\n",
       " 3,\n",
       " 5,\n",
       " 7,\n",
       " 9,\n",
       " 11,\n",
       " 13,\n",
       " 15,\n",
       " 17,\n",
       " 19,\n",
       " 21,\n",
       " 23,\n",
       " 25,\n",
       " 27,\n",
       " 29,\n",
       " 31,\n",
       " 33,\n",
       " 35,\n",
       " 37,\n",
       " 39,\n",
       " 41,\n",
       " 43,\n",
       " 45,\n",
       " 47,\n",
       " 49,\n",
       " 51,\n",
       " 53,\n",
       " 55,\n",
       " 57,\n",
       " 59,\n",
       " 61,\n",
       " 63,\n",
       " 65,\n",
       " 67,\n",
       " 69,\n",
       " 71,\n",
       " 73,\n",
       " 75,\n",
       " 77,\n",
       " 79,\n",
       " 81,\n",
       " 83,\n",
       " 85,\n",
       " 87,\n",
       " 89,\n",
       " 91,\n",
       " 93,\n",
       " 95,\n",
       " 97,\n",
       " 99]"
      ]
     },
     "execution_count": 75,
     "metadata": {},
     "output_type": "execute_result"
    }
   ],
   "source": [
    "l1"
   ]
  },
  {
   "cell_type": "code",
   "execution_count": null,
   "id": "5b259e06",
   "metadata": {},
   "outputs": [],
   "source": []
  },
  {
   "cell_type": "code",
   "execution_count": null,
   "id": "e9734721",
   "metadata": {},
   "outputs": [],
   "source": []
  }
 ],
 "metadata": {
  "kernelspec": {
   "display_name": "Python 3 (ipykernel)",
   "language": "python",
   "name": "python3"
  },
  "language_info": {
   "codemirror_mode": {
    "name": "ipython",
    "version": 3
   },
   "file_extension": ".py",
   "mimetype": "text/x-python",
   "name": "python",
   "nbconvert_exporter": "python",
   "pygments_lexer": "ipython3",
   "version": "3.9.12"
  }
 },
 "nbformat": 4,
 "nbformat_minor": 5
}
